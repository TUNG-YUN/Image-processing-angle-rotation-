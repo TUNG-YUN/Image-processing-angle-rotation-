{
 "cells": [
  {
   "cell_type": "markdown",
   "id": "0f7f12ce-257f-4cee-b451-8dff368a3d9b",
   "metadata": {},
   "source": [
    "查看一個資料夾有多少張圖片"
   ]
  },
  {
   "cell_type": "code",
   "execution_count": 40,
   "id": "b40aadde-c192-4265-913c-4eea39f9461e",
   "metadata": {},
   "outputs": [
    {
     "name": "stdout",
     "output_type": "stream",
     "text": [
      "Total number of images in the folder: 1000\n"
     ]
    }
   ],
   "source": [
    "import os\n",
    "\n",
    "def count_images_in_folder(folder_path):\n",
    "    # 遍历文件夹中的所有文件\n",
    "    file_list = os.listdir(folder_path)\n",
    "    \n",
    "    # 初始化计数器\n",
    "    image_count = 0\n",
    "    \n",
    "    # 对于文件夹中的每个文件\n",
    "    for file_name in file_list:\n",
    "        # 如果文件是图像文件，则增加计数器\n",
    "        if file_name.lower().endswith(('.png', '.jpg', '.jpeg', '.bmp', '.gif')):\n",
    "            image_count += 1\n",
    "    \n",
    "    return image_count\n",
    "\n",
    "# 指定要查看的文件夹路径\n",
    "folder_path = \"C:/Users/Rebecca/Desktop/fourthNoNPC1000\"\n",
    "\n",
    "\n",
    "# 调用函数获取图片数量\n",
    "image_count = count_images_in_folder(folder_path)\n",
    "\n",
    "print(\"Total number of images in the folder:\", image_count)"
   ]
  },
  {
   "cell_type": "markdown",
   "id": "3c13e8b7-a6ca-4708-a4b4-17f2c2d2a204",
   "metadata": {},
   "source": [
    "把多個資料夾合併"
   ]
  },
  {
   "cell_type": "code",
   "execution_count": 39,
   "id": "3cfba820-d2e9-445b-800d-add6667f4525",
   "metadata": {},
   "outputs": [
    {
     "name": "stdout",
     "output_type": "stream",
     "text": [
      "Images merged into: C:/Users/Rebecca/Desktop/fourthNoNPC1000\n"
     ]
    }
   ],
   "source": [
    "import os\n",
    "import shutil\n",
    "\n",
    "def merge_folders(input_folders, output_folder):\n",
    "    # 创建输出文件夹\n",
    "    os.makedirs(output_folder, exist_ok=True)\n",
    "    \n",
    "    # 遍历每个输入文件夹\n",
    "    for idx, folder in enumerate(input_folders, start=1):\n",
    "        # 遍历文件夹中的每个文件\n",
    "        for file_name in os.listdir(folder):\n",
    "            file_path = os.path.join(folder, file_name)\n",
    "            output_file_path = os.path.join(output_folder, file_name)\n",
    "            # 如果输出文件夹中已存在同名文件，则重命名并添加后缀\n",
    "            if os.path.exists(output_file_path):\n",
    "                base_name, extension = os.path.splitext(file_name)\n",
    "                new_file_name = f\"{base_name}_{1.5 + 0.3 * idx}{extension}\"\n",
    "                new_file_path = os.path.join(output_folder, new_file_name)\n",
    "                shutil.copy(file_path, new_file_path)\n",
    "            else:\n",
    "                shutil.copy(file_path, output_folder)\n",
    "    \n",
    "    print(\"Images merged into:\", output_folder)\n",
    "\n",
    "# 指定四个输入文件夹的路径\n",
    "input_folders = [\"C:/Users/Rebecca/Desktop/NoNPCFlippedImages\", \n",
    "                 \"C:/Users/Rebecca/Desktop/NoNPCFlippedImagesleftright\", \n",
    "                 \"C:/Users/Rebecca/Desktop/NoNPCrotate180\", \n",
    "                 \"C:/Users/Rebecca/Desktop/NoNPCclockwise45\",\n",
    "                 \"C:/Users/Rebecca/Desktop/NoNPCclockwise60\",\n",
    "                 \"C:/Users/Rebecca/Desktop/NoNPCclockwise90\",\n",
    "                 \"C:/Users/Rebecca/Desktop/NoNPCanticlockwise45\",\n",
    "                 \"C:/Users/Rebecca/Desktop/NoNPCanticlockwise60\",\n",
    "                 \"C:/Users/Rebecca/Desktop/NoNPCanticlockwise90\"\n",
    "                 \n",
    "                ]\n",
    "\n",
    "# 指定输出文件夹的路径\n",
    "output_folder = \"C:/Users/Rebecca/Desktop/fourthNoNPC1000\"\n",
    "\n",
    "# 合并四个文件夹中的图片到输出文件夹\n",
    "merge_folders(input_folders, output_folder)"
   ]
  },
  {
   "cell_type": "markdown",
   "id": "b1db8bec-1cea-4b3f-a68e-b3a3d943590f",
   "metadata": {},
   "source": [
    "任意選擇整個資料夾(Originaldataset內訓練資料集內的患有鼻咽癌影像檔C:\\Users\\Rebecca\\Desktop\\Originaldataset\\train\\NPCnoblacksame208)的整個資料夾上下翻轉"
   ]
  },
  {
   "cell_type": "code",
   "execution_count": 21,
   "id": "87e16bdc-7777-4ac3-9663-21e7ab203c69",
   "metadata": {},
   "outputs": [
    {
     "name": "stdout",
     "output_type": "stream",
     "text": [
      "Selected images flipped and saved to: C:/Users/Rebecca/Desktop/NoNPCFlippedImages\n"
     ]
    }
   ],
   "source": [
    "import os\n",
    "import random\n",
    "import shutil\n",
    "import cv2\n",
    "import numpy as np\n",
    "\n",
    "def flip_image(image):\n",
    "    # 上下翻转图像\n",
    "    flipped_image = cv2.flip(image, 0)  # 参数为0表示沿x轴翻转\n",
    "    return flipped_image\n",
    "\n",
    "def apply_flip_to_images(input_folder, output_folder, num_images_to_select):\n",
    "    # 确保输出文件夹存在，不存在则创建\n",
    "    os.makedirs(output_folder, exist_ok=True)\n",
    "\n",
    "    # 获取输入文件夹中所有图片的路径\n",
    "    image_paths = [os.path.join(input_folder, f) for f in os.listdir(input_folder) if os.path.isfile(os.path.join(input_folder, f))]\n",
    "\n",
    "    # 随机选择指定数量的图片\n",
    "    selected_image_paths = random.sample(image_paths, num_images_to_select)\n",
    "\n",
    "    # 对每张选择的图片应用上下翻转并保存到输出文件夹中\n",
    "    for image_path in selected_image_paths:\n",
    "        # 读取图片\n",
    "        image = cv2.imread(image_path)\n",
    "        \n",
    "        # 应用上下翻转\n",
    "        flipped_image = flip_image(image)\n",
    "        \n",
    "        # 保存翻转后的图片到输出文件夹中\n",
    "        file_name = os.path.basename(image_path)\n",
    "        output_image_path = os.path.join(output_folder, file_name)\n",
    "        cv2.imwrite(output_image_path, flipped_image)\n",
    "\n",
    "    print(\"Selected images flipped and saved to:\", output_folder)\n",
    "\n",
    "# 指定文件夹路径\n",
    "input_folder = \"C:/Users/Rebecca/Desktop/Originaldataset/train/noNPCnoblacksame208\"\n",
    "\n",
    "# 每次执行随机选择的图片数量\n",
    "num_images_to_select = 100\n",
    "\n",
    "# 指定新的文件夹路径\n",
    "output_folder = \"C:/Users/Rebecca/Desktop/NoNPCFlippedImages\"\n",
    "\n",
    "# 执行对图片进行上下翻转并保存\n",
    "apply_flip_to_images(input_folder, output_folder, num_images_to_select)"
   ]
  },
  {
   "cell_type": "markdown",
   "id": "4d0c8e19-6f84-4f9f-982f-425fe6c3ba03",
   "metadata": {},
   "source": [
    "任意選擇整個資料夾(Originaldataset內訓練資料集內的患有鼻咽癌影像檔C:\\Users\\Rebecca\\Desktop\\Originaldataset\\train\\NPCnoblacksame208)的整個資料夾左右翻轉"
   ]
  },
  {
   "cell_type": "code",
   "execution_count": 22,
   "id": "5723f49b-8d3c-4b52-950b-520880a62a4f",
   "metadata": {},
   "outputs": [
    {
     "name": "stdout",
     "output_type": "stream",
     "text": [
      "Selected images flipped horizontally and saved to: C:/Users/Rebecca/Desktop/NoNPCFlippedImagesleftright\n"
     ]
    }
   ],
   "source": [
    "import os\n",
    "import random\n",
    "import shutil\n",
    "import cv2\n",
    "import numpy as np\n",
    "\n",
    "def flip_image(image):\n",
    "    # 左右翻转图像\n",
    "    flipped_image = cv2.flip(image, 1)  # 参数为1表示沿y轴翻转\n",
    "    return flipped_image\n",
    "\n",
    "def apply_flip_to_images(input_folder, output_folder, num_images_to_select):\n",
    "    # 确保输出文件夹存在，不存在则创建\n",
    "    os.makedirs(output_folder, exist_ok=True)\n",
    "\n",
    "    # 获取输入文件夹中所有图片的路径\n",
    "    image_paths = [os.path.join(input_folder, f) for f in os.listdir(input_folder) if os.path.isfile(os.path.join(input_folder, f))]\n",
    "\n",
    "    # 随机选择指定数量的图片\n",
    "    selected_image_paths = random.sample(image_paths, num_images_to_select)\n",
    "\n",
    "    # 对每张选择的图片应用左右翻转并保存到输出文件夹中\n",
    "    for image_path in selected_image_paths:\n",
    "        # 读取图片\n",
    "        image = cv2.imread(image_path)\n",
    "        \n",
    "        # 应用左右翻转\n",
    "        flipped_image = flip_image(image)\n",
    "        \n",
    "        # 保存翻转后的图片到输出文件夹中\n",
    "        file_name = os.path.basename(image_path)\n",
    "        output_image_path = os.path.join(output_folder, file_name)\n",
    "        cv2.imwrite(output_image_path, flipped_image)\n",
    "\n",
    "    print(\"Selected images flipped horizontally and saved to:\", output_folder)\n",
    "\n",
    "# 指定文件夹路径\n",
    "input_folder = \"C:/Users/Rebecca/Desktop/Originaldataset/train/noNPCnoblacksame208\"\n",
    "\n",
    "# 每次执行随机选择的图片数量\n",
    "num_images_to_select = 100\n",
    "\n",
    "# 指定新的文件夹路径\n",
    "output_folder = \"C:/Users/Rebecca/Desktop/NoNPCFlippedImagesleftright\"\n",
    "\n",
    "# 执行对图片进行左右翻转并保存\n",
    "apply_flip_to_images(input_folder, output_folder, num_images_to_select)"
   ]
  },
  {
   "cell_type": "markdown",
   "id": "ddfb6ad7-5dee-4776-801f-1e740ccad12c",
   "metadata": {},
   "source": [
    "任意選擇整個資料夾(Originaldataset內訓練資料集內的患有鼻咽癌影像檔C:\\Users\\Rebecca\\Desktop\\Originaldataset\\train\\NPCnoblacksame208)的整個資料夾rotate180度"
   ]
  },
  {
   "cell_type": "code",
   "execution_count": 23,
   "id": "ec666dbe-3e18-4945-9788-73e7198e6efa",
   "metadata": {},
   "outputs": [
    {
     "name": "stdout",
     "output_type": "stream",
     "text": [
      "Selected images flipped and saved to: C:/Users/Rebecca/Desktop/NoNPCrotate180\n"
     ]
    }
   ],
   "source": [
    "import os\n",
    "import random\n",
    "import shutil\n",
    "import cv2\n",
    "\n",
    "def flip_images(input_folder, output_folder, num_images_to_select):\n",
    "    # 確保輸出資料夾存在，不存在則建立\n",
    "    os.makedirs(output_folder, exist_ok=True)\n",
    "\n",
    "    # 獲取輸入資料夾中所有圖片的路徑\n",
    "    image_paths = [os.path.join(input_folder, f) for f in os.listdir(input_folder) if os.path.isfile(os.path.join(input_folder, f))]\n",
    "\n",
    "    # 隨機選取指定數量的圖片\n",
    "    selected_image_paths = random.sample(image_paths, num_images_to_select)\n",
    "\n",
    "    # 對每張選取的圖片進行上下翻轉並儲存到輸出資料夾中\n",
    "    for image_path in selected_image_paths:\n",
    "        # 讀取圖片\n",
    "        image = cv2.imread(image_path)\n",
    "        \n",
    "        # 旋轉180度\n",
    "        output_ROTATE_180 = cv2.rotate(image,cv2.ROTATE_180)\n",
    "        \n",
    "        # 儲存翻轉後的圖片到輸出資料夾中\n",
    "        file_name = os.path.basename(image_path)\n",
    "        output_image_path = os.path.join(output_folder, file_name)\n",
    "        cv2.imwrite(output_image_path, output_ROTATE_180)\n",
    "\n",
    "    print(\"Selected images flipped and saved to:\", output_folder)\n",
    "\n",
    "# 指定資料夾路徑\n",
    "input_folder = \"C:/Users/Rebecca/Desktop/Originaldataset/train/noNPCnoblacksame208\"\n",
    "\n",
    "# 每次執行隨機選擇的圖片數量\n",
    "num_images_to_select = 100\n",
    "\n",
    "# 指定新的資料夾路徑\n",
    "output_folder = \"C:/Users/Rebecca/Desktop/NoNPCrotate180\"\n",
    "\n",
    "# 執行上下翻轉並儲存圖片\n",
    "flip_images(input_folder, output_folder, num_images_to_select)"
   ]
  },
  {
   "cell_type": "markdown",
   "id": "432dd3db-2a95-481b-9189-2677b986745f",
   "metadata": {},
   "source": [
    "任意選擇整個資料夾(Originaldataset內訓練資料集內的患有鼻咽癌影像檔C:\\Users\\Rebecca\\Desktop\\Originaldataset\\train\\NPCnoblacksame208)的整個資料夾逆時針旋轉45度"
   ]
  },
  {
   "cell_type": "code",
   "execution_count": 24,
   "id": "a7952bb2-b890-442e-b393-b2966a297ebb",
   "metadata": {},
   "outputs": [
    {
     "name": "stdout",
     "output_type": "stream",
     "text": [
      "Selected images flipped and saved to: C:/Users/Rebecca/Desktop/NoNPCanticlockwise45\n"
     ]
    }
   ],
   "source": [
    "import os\n",
    "import random\n",
    "import shutil\n",
    "import cv2\n",
    "\n",
    "def flip_images(input_folder, output_folder, num_images_to_select):\n",
    "    # 確保輸出資料夾存在，不存在則建立\n",
    "    os.makedirs(output_folder, exist_ok=True)\n",
    "\n",
    "    # 獲取輸入資料夾中所有圖片的路徑\n",
    "    image_paths = [os.path.join(input_folder, f) for f in os.listdir(input_folder) if os.path.isfile(os.path.join(input_folder, f))]\n",
    "\n",
    "    # 隨機選取指定數量的圖片\n",
    "    selected_image_paths = random.sample(image_paths, num_images_to_select)\n",
    "\n",
    "    # 對每張選取的圖片進行上下翻轉並儲存到輸出資料夾中\n",
    "    for image_path in selected_image_paths:\n",
    "        # 讀取圖片\n",
    "        image = cv2.imread(image_path)\n",
    "        \n",
    "       # 獲取圖像尺寸\n",
    "        height, width = image.shape[:2]\n",
    "\n",
    "        # 計算旋轉矩陣\n",
    "        rotation_matrix = cv2.getRotationMatrix2D((width / 2, height / 2), 45, 1)  #可在此更改角度\n",
    "\n",
    "        # 執行仿射變換\n",
    "        rotated_image = cv2.warpAffine(image, rotation_matrix, (width, height))\n",
    "        # 儲存翻轉後的圖片到輸出資料夾中\n",
    "        file_name = os.path.basename(image_path)\n",
    "        output_image_path = os.path.join(output_folder, file_name)\n",
    "        cv2.imwrite(output_image_path,  rotated_image)\n",
    "\n",
    "    print(\"Selected images flipped and saved to:\", output_folder)\n",
    "\n",
    "# 指定資料夾路徑\n",
    "input_folder = \"C:/Users/Rebecca/Desktop/Originaldataset/train/noNPCnoblacksame208\"\n",
    "\n",
    "# 每次執行隨機選擇的圖片數量\n",
    "num_images_to_select = 150\n",
    "\n",
    "# 指定新的資料夾路徑\n",
    "output_folder = \"C:/Users/Rebecca/Desktop/NoNPCanticlockwise45\"\n",
    "\n",
    "# 執行上下翻轉並儲存圖片\n",
    "flip_images(input_folder, output_folder, num_images_to_select)"
   ]
  },
  {
   "cell_type": "markdown",
   "id": "c42161fc-e0fa-4f68-a894-31102dc586d7",
   "metadata": {},
   "source": [
    "任意選擇整個資料夾(Originaldataset內訓練資料集內的患有鼻咽癌影像檔C:\\Users\\Rebecca\\Desktop\\Originaldataset\\train\\NPCnoblacksame208)的整個資料夾逆時針旋轉60度"
   ]
  },
  {
   "cell_type": "code",
   "execution_count": 25,
   "id": "6ae88123-6223-4e3f-bd39-74ff6c66c62b",
   "metadata": {},
   "outputs": [
    {
     "name": "stdout",
     "output_type": "stream",
     "text": [
      "Selected images flipped and saved to: C:/Users/Rebecca/Desktop/NoNPCanticlockwise60\n"
     ]
    }
   ],
   "source": [
    "import os\n",
    "import random\n",
    "import shutil\n",
    "import cv2\n",
    "\n",
    "def flip_images(input_folder, output_folder, num_images_to_select):\n",
    "    # 確保輸出資料夾存在，不存在則建立\n",
    "    os.makedirs(output_folder, exist_ok=True)\n",
    "\n",
    "    # 獲取輸入資料夾中所有圖片的路徑\n",
    "    image_paths = [os.path.join(input_folder, f) for f in os.listdir(input_folder) if os.path.isfile(os.path.join(input_folder, f))]\n",
    "\n",
    "    # 隨機選取指定數量的圖片\n",
    "    selected_image_paths = random.sample(image_paths, num_images_to_select)\n",
    "\n",
    "    # 對每張選取的圖片進行上下翻轉並儲存到輸出資料夾中\n",
    "    for image_path in selected_image_paths:\n",
    "        # 讀取圖片\n",
    "        image = cv2.imread(image_path)\n",
    "        \n",
    "       # 獲取圖像尺寸\n",
    "        height, width = image.shape[:2]\n",
    "\n",
    "        # 計算旋轉矩陣\n",
    "        rotation_matrix = cv2.getRotationMatrix2D((width / 2, height / 2), 60, 1)  #可在此更改角度\n",
    "\n",
    "        # 執行仿射變換\n",
    "        rotated_image = cv2.warpAffine(image, rotation_matrix, (width, height))\n",
    "        # 儲存翻轉後的圖片到輸出資料夾中\n",
    "        file_name = os.path.basename(image_path)\n",
    "        output_image_path = os.path.join(output_folder, file_name)\n",
    "        cv2.imwrite(output_image_path,  rotated_image)\n",
    "\n",
    "    print(\"Selected images flipped and saved to:\", output_folder)\n",
    "\n",
    "# 指定資料夾路徑\n",
    "input_folder = \"C:/Users/Rebecca/Desktop/Originaldataset/train/noNPCnoblacksame208\"\n",
    "\n",
    "# 每次執行隨機選擇的圖片數量\n",
    "num_images_to_select = 100\n",
    "\n",
    "# 指定新的資料夾路徑\n",
    "output_folder = \"C:/Users/Rebecca/Desktop/NoNPCanticlockwise60\"\n",
    "\n",
    "# 執行上下翻轉並儲存圖片\n",
    "flip_images(input_folder, output_folder, num_images_to_select)"
   ]
  },
  {
   "cell_type": "markdown",
   "id": "30bc27ca-99b7-4133-95a9-7bbeb61ef91c",
   "metadata": {},
   "source": [
    "任意選擇整個資料夾(Originaldataset內訓練資料集內的患有鼻咽癌影像檔C:\\Users\\Rebecca\\Desktop\\Originaldataset\\train\\NPCnoblacksame208)的整個資料夾逆時針旋轉90度"
   ]
  },
  {
   "cell_type": "code",
   "execution_count": 26,
   "id": "ebe377c2-ed54-454e-9059-b6953b92cf87",
   "metadata": {},
   "outputs": [
    {
     "name": "stdout",
     "output_type": "stream",
     "text": [
      "Selected images flipped and saved to: C:/Users/Rebecca/Desktop/NoNPCanticlockwise90\n"
     ]
    }
   ],
   "source": [
    "import os\n",
    "import random\n",
    "import shutil\n",
    "import cv2\n",
    "\n",
    "def flip_images(input_folder, output_folder, num_images_to_select):\n",
    "    # 確保輸出資料夾存在，不存在則建立\n",
    "    os.makedirs(output_folder, exist_ok=True)\n",
    "\n",
    "    # 獲取輸入資料夾中所有圖片的路徑\n",
    "    image_paths = [os.path.join(input_folder, f) for f in os.listdir(input_folder) if os.path.isfile(os.path.join(input_folder, f))]\n",
    "\n",
    "    # 隨機選取指定數量的圖片\n",
    "    selected_image_paths = random.sample(image_paths, num_images_to_select)\n",
    "\n",
    "    # 對每張選取的圖片進行上下翻轉並儲存到輸出資料夾中\n",
    "    for image_path in selected_image_paths:\n",
    "        # 讀取圖片\n",
    "        image = cv2.imread(image_path)\n",
    "        \n",
    "       # 獲取圖像尺寸\n",
    "        height, width = image.shape[:2]\n",
    "\n",
    "        # 計算旋轉矩陣\n",
    "        rotation_matrix = cv2.getRotationMatrix2D((width / 2, height / 2), 90, 1)  #可在此更改角度\n",
    "\n",
    "        # 執行仿射變換\n",
    "        rotated_image = cv2.warpAffine(image, rotation_matrix, (width, height))\n",
    "        # 儲存翻轉後的圖片到輸出資料夾中\n",
    "        file_name = os.path.basename(image_path)\n",
    "        output_image_path = os.path.join(output_folder, file_name)\n",
    "        cv2.imwrite(output_image_path,  rotated_image)\n",
    "\n",
    "    print(\"Selected images flipped and saved to:\", output_folder)\n",
    "\n",
    "# 指定資料夾路徑\n",
    "input_folder = \"C:/Users/Rebecca/Desktop/Originaldataset/train/noNPCnoblacksame208\"\n",
    "\n",
    "# 每次執行隨機選擇的圖片數量\n",
    "num_images_to_select = 100\n",
    "\n",
    "# 指定新的資料夾路徑\n",
    "output_folder = \"C:/Users/Rebecca/Desktop/NoNPCanticlockwise90\"\n",
    "\n",
    "# 執行上下翻轉並儲存圖片\n",
    "flip_images(input_folder, output_folder, num_images_to_select)"
   ]
  },
  {
   "cell_type": "markdown",
   "id": "4dbd9ce6-9f1d-4db9-b0f9-c83ae6aac372",
   "metadata": {},
   "source": [
    "任意選擇整個資料夾(Originaldataset內訓練資料集內的患有鼻咽癌影像檔C:\\Users\\Rebecca\\Desktop\\Originaldataset\\train\\NPCnoblacksame208)的整個資料夾順時針旋轉45度"
   ]
  },
  {
   "cell_type": "code",
   "execution_count": 27,
   "id": "2cf6d5dd-c46f-47d4-9846-7d8e57e19b0e",
   "metadata": {},
   "outputs": [
    {
     "name": "stdout",
     "output_type": "stream",
     "text": [
      "Selected images flipped and saved to: C:/Users/Rebecca/Desktop/NoNPCclockwise45\n"
     ]
    }
   ],
   "source": [
    "import os\n",
    "import random\n",
    "import shutil\n",
    "import cv2\n",
    "\n",
    "def flip_images(input_folder, output_folder, num_images_to_select):\n",
    "    # 確保輸出資料夾存在，不存在則建立\n",
    "    os.makedirs(output_folder, exist_ok=True)\n",
    "\n",
    "    # 獲取輸入資料夾中所有圖片的路徑\n",
    "    image_paths = [os.path.join(input_folder, f) for f in os.listdir(input_folder) if os.path.isfile(os.path.join(input_folder, f))]\n",
    "\n",
    "    # 隨機選取指定數量的圖片\n",
    "    selected_image_paths = random.sample(image_paths, num_images_to_select)\n",
    "\n",
    "    # 對每張選取的圖片進行上下翻轉並儲存到輸出資料夾中\n",
    "    for image_path in selected_image_paths:\n",
    "        # 讀取圖片\n",
    "        image = cv2.imread(image_path)\n",
    "        \n",
    "       # 獲取圖像尺寸\n",
    "        height, width = image.shape[:2]\n",
    "\n",
    "        # 計算旋轉矩陣\n",
    "        rotation_matrix = cv2.getRotationMatrix2D((width / 2, height / 2), -45, 1)  #可在此更改角度，順時針要加負號(-)\n",
    "\n",
    "        # 執行仿射變換\n",
    "        rotated_image = cv2.warpAffine(image, rotation_matrix, (width, height))\n",
    "\n",
    "        # 儲存翻轉後的圖片到輸出資料夾中\n",
    "        file_name = os.path.basename(image_path)\n",
    "        output_image_path = os.path.join(output_folder, file_name)\n",
    "        cv2.imwrite(output_image_path,  rotated_image)\n",
    "\n",
    "    print(\"Selected images flipped and saved to:\", output_folder)\n",
    "\n",
    "# 指定資料夾路徑\n",
    "input_folder = \"C:/Users/Rebecca/Desktop/Originaldataset/train/noNPCnoblacksame208\"\n",
    "\n",
    "# 每次執行隨機選擇的圖片數量\n",
    "num_images_to_select = 150\n",
    "\n",
    "# 指定新的資料夾路徑\n",
    "output_folder = \"C:/Users/Rebecca/Desktop/NoNPCclockwise45\"\n",
    "\n",
    "# 執行上下翻轉並儲存圖片\n",
    "flip_images(input_folder, output_folder, num_images_to_select)"
   ]
  },
  {
   "cell_type": "markdown",
   "id": "e5a589f6-43d3-4eaa-9695-dc40d9a4c27c",
   "metadata": {},
   "source": [
    "任意選擇整個資料夾(Originaldataset內訓練資料集內的患有鼻咽癌影像檔C:\\Users\\Rebecca\\Desktop\\Originaldataset\\train\\NPCnoblacksame208)的整個資料夾順時針旋轉60度"
   ]
  },
  {
   "cell_type": "code",
   "execution_count": 28,
   "id": "16cf1c5a-d20e-44b0-9c1e-6cbbd5080856",
   "metadata": {},
   "outputs": [
    {
     "name": "stdout",
     "output_type": "stream",
     "text": [
      "Selected images flipped and saved to: C:/Users/Rebecca/Desktop/NoNPCclockwise60\n"
     ]
    }
   ],
   "source": [
    "import os\n",
    "import random\n",
    "import shutil\n",
    "import cv2\n",
    "\n",
    "def flip_images(input_folder, output_folder, num_images_to_select):\n",
    "    # 確保輸出資料夾存在，不存在則建立\n",
    "    os.makedirs(output_folder, exist_ok=True)\n",
    "\n",
    "    # 獲取輸入資料夾中所有圖片的路徑\n",
    "    image_paths = [os.path.join(input_folder, f) for f in os.listdir(input_folder) if os.path.isfile(os.path.join(input_folder, f))]\n",
    "\n",
    "    # 隨機選取指定數量的圖片\n",
    "    selected_image_paths = random.sample(image_paths, num_images_to_select)\n",
    "\n",
    "    # 對每張選取的圖片進行上下翻轉並儲存到輸出資料夾中\n",
    "    for image_path in selected_image_paths:\n",
    "        # 讀取圖片\n",
    "        image = cv2.imread(image_path)\n",
    "        \n",
    "       # 獲取圖像尺寸\n",
    "        height, width = image.shape[:2]\n",
    "\n",
    "        # 計算旋轉矩陣\n",
    "        rotation_matrix = cv2.getRotationMatrix2D((width / 2, height / 2), -60, 1)  #可在此更改角度，順時針要加負號(-)\n",
    "\n",
    "        # 執行仿射變換\n",
    "        rotated_image = cv2.warpAffine(image, rotation_matrix, (width, height))\n",
    "\n",
    "        # 儲存翻轉後的圖片到輸出資料夾中\n",
    "        file_name = os.path.basename(image_path)\n",
    "        output_image_path = os.path.join(output_folder, file_name)\n",
    "        cv2.imwrite(output_image_path,  rotated_image)\n",
    "\n",
    "    print(\"Selected images flipped and saved to:\", output_folder)\n",
    "\n",
    "# 指定資料夾路徑\n",
    "input_folder = \"C:/Users/Rebecca/Desktop/Originaldataset/train/noNPCnoblacksame208\"\n",
    "\n",
    "# 每次執行隨機選擇的圖片數量\n",
    "num_images_to_select = 100\n",
    "\n",
    "# 指定新的資料夾路徑\n",
    "output_folder = \"C:/Users/Rebecca/Desktop/NoNPCclockwise60\"\n",
    "\n",
    "# 執行上下翻轉並儲存圖片\n",
    "flip_images(input_folder, output_folder, num_images_to_select)"
   ]
  },
  {
   "cell_type": "markdown",
   "id": "ca49033d-f8bd-48ca-9b0c-8bb358ad3b4c",
   "metadata": {},
   "source": [
    "任意選擇整個資料夾(Originaldataset內訓練資料集內的患有鼻咽癌影像檔C:\\Users\\Rebecca\\Desktop\\Originaldataset\\train\\NPCnoblacksame208)的整個資料夾順時針旋轉90度"
   ]
  },
  {
   "cell_type": "code",
   "execution_count": 29,
   "id": "53683ed1-5435-45d1-a606-59ef7289d75e",
   "metadata": {},
   "outputs": [
    {
     "name": "stdout",
     "output_type": "stream",
     "text": [
      "Selected images flipped and saved to: C:/Users/Rebecca/Desktop/NoNPCclockwise90\n"
     ]
    }
   ],
   "source": [
    "import os\n",
    "import random\n",
    "import shutil\n",
    "import cv2\n",
    "\n",
    "def flip_images(input_folder, output_folder, num_images_to_select):\n",
    "    # 確保輸出資料夾存在，不存在則建立\n",
    "    os.makedirs(output_folder, exist_ok=True)\n",
    "\n",
    "    # 獲取輸入資料夾中所有圖片的路徑\n",
    "    image_paths = [os.path.join(input_folder, f) for f in os.listdir(input_folder) if os.path.isfile(os.path.join(input_folder, f))]\n",
    "\n",
    "    # 隨機選取指定數量的圖片\n",
    "    selected_image_paths = random.sample(image_paths, num_images_to_select)\n",
    "\n",
    "    # 對每張選取的圖片進行上下翻轉並儲存到輸出資料夾中\n",
    "    for image_path in selected_image_paths:\n",
    "        # 讀取圖片\n",
    "        image = cv2.imread(image_path)\n",
    "        \n",
    "       # 獲取圖像尺寸\n",
    "        height, width = image.shape[:2]\n",
    "\n",
    "        # 計算旋轉矩陣\n",
    "        rotation_matrix = cv2.getRotationMatrix2D((width / 2, height / 2), -90, 1)  #可在此更改角度，順時針要加負號(-)\n",
    "\n",
    "        # 執行仿射變換\n",
    "        rotated_image = cv2.warpAffine(image, rotation_matrix, (width, height))\n",
    "\n",
    "        # 儲存翻轉後的圖片到輸出資料夾中\n",
    "        file_name = os.path.basename(image_path)\n",
    "        output_image_path = os.path.join(output_folder, file_name)\n",
    "        cv2.imwrite(output_image_path,  rotated_image)\n",
    "\n",
    "    print(\"Selected images flipped and saved to:\", output_folder)\n",
    "\n",
    "# 指定資料夾路徑\n",
    "input_folder = \"C:/Users/Rebecca/Desktop/Originaldataset/train/noNPCnoblacksame208\"\n",
    "\n",
    "# 每次執行隨機選擇的圖片數量\n",
    "num_images_to_select = 100\n",
    "\n",
    "# 指定新的資料夾路徑\n",
    "output_folder = \"C:/Users/Rebecca/Desktop/NoNPCclockwise90\"\n",
    "\n",
    "# 執行上下翻轉並儲存圖片\n",
    "flip_images(input_folder, output_folder, num_images_to_select)"
   ]
  },
  {
   "cell_type": "code",
   "execution_count": null,
   "id": "65bdd1fa-68e3-4d58-87c3-3185791acf94",
   "metadata": {},
   "outputs": [],
   "source": []
  }
 ],
 "metadata": {
  "kernelspec": {
   "display_name": "Python 3 (ipykernel)",
   "language": "python",
   "name": "python3"
  },
  "language_info": {
   "codemirror_mode": {
    "name": "ipython",
    "version": 3
   },
   "file_extension": ".py",
   "mimetype": "text/x-python",
   "name": "python",
   "nbconvert_exporter": "python",
   "pygments_lexer": "ipython3",
   "version": "3.10.13"
  }
 },
 "nbformat": 4,
 "nbformat_minor": 5
}
